{
 "cells": [
  {
   "cell_type": "code",
   "execution_count": null,
   "metadata": {
    "collapsed": true
   },
   "outputs": [],
   "source": [
    "import pandas as pd\n",
    "import numpy as np\n",
    "import tensorflow as tf"
   ]
  },
  {
   "cell_type": "code",
   "execution_count": null,
   "metadata": {
    "collapsed": true
   },
   "outputs": [],
   "source": [
    "def get_target(ratings, user, idx, window_size=4):\n",
    "    #TODO: finish implementing\n",
    "    start = idx - window_size if (idx - window_size) > 0 else  0\n",
    "    end = idx + window_size\n",
    "    if ratings[start][0] == user and ratings[end][0] == user:\n",
    "        target_movies = set(ratings[start:idx] + ratings[idx+1:end])\n",
    "        half1 = ratings[start:idx]\n",
    "        half2 = ratings[idx+1:end]\n",
    "        return list(target_movies)\n",
    "    else:\n",
    "        pass"
   ]
  },
  {
   "cell_type": "code",
   "execution_count": null,
   "metadata": {
    "collapsed": true
   },
   "outputs": [],
   "source": [
    "def get_batches(ratings, userId, window_size=3):\n",
    "    #TODO: implement\n",
    "    pass"
   ]
  },
  {
   "cell_type": "code",
   "execution_count": null,
   "metadata": {
    "collapsed": true
   },
   "outputs": [],
   "source": [
    "def placeholders():\n",
    "    inputs = tf.placeholder(tf.int32, [None], name='inputs')\n",
    "    labels = tf.placeholder(tf.int32, [None, None], name='labels')\n",
    "    \n",
    "    return inputs, labels"
   ]
  },
  {
   "cell_type": "code",
   "execution_count": null,
   "metadata": {
    "collapsed": true
   },
   "outputs": [],
   "source": [
    "def variables(vocab_dim, embed_dim, inputs):\n",
    "    embedding = tf.Variable(tf.random_uniform([vocab_dim, embed_dim], -1, 1))\n",
    "    lookup = tf.nn.embedding_lookup(embedding, inputs)\n",
    "    \n",
    "    return embedding, lookup"
   ]
  },
  {
   "cell_type": "code",
   "execution_count": null,
   "metadata": {
    "collapsed": true
   },
   "outputs": [],
   "source": [
    "def negative_sampled_loss(vocab_dim, embed_dim, n_samples, labels, embed):\n",
    "    softmax_W = tf.Variable(tf.truncated_normal([vocab_dim, embed_dim], stddev=0.1))\n",
    "    softmax_b = tf.Variable(tf.zeros(vocab_dim))\n",
    "    \n",
    "    loss = tf.nn.sampled_softmax_loss(softmax_W, softmax_b, labels, embed, n_samples, vocab_dim)\n",
    "    cost = tf.reduce_mean(loss)\n",
    "    \n",
    "    return cost"
   ]
  },
  {
   "cell_type": "code",
   "execution_count": null,
   "metadata": {
    "collapsed": true
   },
   "outputs": [],
   "source": [
    "def opt(cost):\n",
    "    optimizer = tf.train.AdamOptimizer().minimize(cost)\n",
    "    return optimizer"
   ]
  }
 ],
 "metadata": {
  "kernelspec": {
   "display_name": "Python 3",
   "language": "python",
   "name": "python3"
  },
  "language_info": {
   "codemirror_mode": {
    "name": "ipython",
    "version": 3
   },
   "file_extension": ".py",
   "mimetype": "text/x-python",
   "name": "python",
   "nbconvert_exporter": "python",
   "pygments_lexer": "ipython3",
   "version": "3.6.2"
  }
 },
 "nbformat": 4,
 "nbformat_minor": 2
}
