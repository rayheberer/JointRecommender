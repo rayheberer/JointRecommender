{
 "cells": [
  {
   "cell_type": "code",
   "execution_count": null,
   "metadata": {
    "collapsed": true
   },
   "outputs": [],
   "source": [
    "import pandas as pd\n",
    "import numpy as np\n",
    "import tensorflow as tf"
   ]
  },
  {
   "cell_type": "code",
   "execution_count": null,
   "metadata": {
    "collapsed": true
   },
   "outputs": [],
   "source": [
    "def get_target(ratings_df, user, idx, window_size=4):\n",
    "    start = idx - window_size\n",
    "    if start < 0:\n",
    "        return False\n",
    "    \n",
    "    end = idx + window_size + 1\n",
    "    \n",
    "    if ratings.userId.iloc[start] == user and ratings.userId.iloc[end] == user:\n",
    "        half1 = ratings.movieId.iloc[start:idx].tolist()\n",
    "        half2 = ratings.movieId.iloc[idx+1:end].tolist()\n",
    "        return half1 + half2\n",
    "    else:\n",
    "        return False"
   ]
  },
  {
   "cell_type": "code",
   "execution_count": null,
   "metadata": {
    "collapsed": true
   },
   "outputs": [],
   "source": [
    "# TODO: vectorize and make faster. attempt to reduce role of explicit for loop\n",
    "def dataset(ratings_df, window_size=4):\n",
    "    x = []\n",
    "    y = []\n",
    "    for idx in range(len(ratings_df.userId)):\n",
    "        if get_target(ratings_df, int(ratings_df.userId.iloc[idx]), idx, window_size):\n",
    "            x.append(int(ratings.movieId.iloc[idx]))\n",
    "            y.append(get_target(ratings_df, int(ratings_df.userId.iloc[idx]), idx, window_size))\n",
    "        if idx % 500000 == 0 and idx != 0:\n",
    "            print(\"{}/{} entries processed\".format(idx, len(ratings_df.userId)))\n",
    "    x, y, = np.array(x), np.array(y)\n",
    "    return x, y"
   ]
  },
  {
   "cell_type": "code",
   "execution_count": null,
   "metadata": {
    "collapsed": true
   },
   "outputs": [],
   "source": [
    "def get_batches(dataset, batch_size, window_size=4):\n",
    "    # TODO: implement\n",
    "    pass"
   ]
  },
  {
   "cell_type": "code",
   "execution_count": null,
   "metadata": {
    "collapsed": true
   },
   "outputs": [],
   "source": [
    "def placeholders():\n",
    "    inputs = tf.placeholder(tf.int32, [None], name='inputs')\n",
    "    labels = tf.placeholder(tf.int32, [None, None], name='labels')\n",
    "    \n",
    "    return inputs, labels"
   ]
  },
  {
   "cell_type": "code",
   "execution_count": null,
   "metadata": {
    "collapsed": true
   },
   "outputs": [],
   "source": [
    "def variables(vocab_dim, embed_dim, inputs):\n",
    "    embedding = tf.Variable(tf.random_uniform([vocab_dim, embed_dim], -1, 1))\n",
    "    lookup = tf.nn.embedding_lookup(embedding, inputs)\n",
    "    \n",
    "    return embedding, lookup"
   ]
  },
  {
   "cell_type": "code",
   "execution_count": null,
   "metadata": {
    "collapsed": true
   },
   "outputs": [],
   "source": [
    "def negative_sampled_loss(vocab_dim, embed_dim, n_samples, labels, embed):\n",
    "    softmax_W = tf.Variable(tf.truncated_normal([vocab_dim, embed_dim], stddev=0.1))\n",
    "    softmax_b = tf.Variable(tf.zeros(vocab_dim))\n",
    "    \n",
    "    loss = tf.nn.sampled_softmax_loss(softmax_W, softmax_b, labels, embed, n_samples, vocab_dim)\n",
    "    cost = tf.reduce_mean(loss)\n",
    "    \n",
    "    return cost"
   ]
  },
  {
   "cell_type": "code",
   "execution_count": null,
   "metadata": {
    "collapsed": true
   },
   "outputs": [],
   "source": [
    "def opt(cost):\n",
    "    optimizer = tf.train.AdamOptimizer().minimize(cost)\n",
    "    return optimizer"
   ]
  }
 ],
 "metadata": {
  "kernelspec": {
   "display_name": "Python 3",
   "language": "python",
   "name": "python3"
  },
  "language_info": {
   "codemirror_mode": {
    "name": "ipython",
    "version": 3
   },
   "file_extension": ".py",
   "mimetype": "text/x-python",
   "name": "python",
   "nbconvert_exporter": "python",
   "pygments_lexer": "ipython3",
   "version": "3.6.2"
  }
 },
 "nbformat": 4,
 "nbformat_minor": 2
}
