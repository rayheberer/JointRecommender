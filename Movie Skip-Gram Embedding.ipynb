{
 "cells": [
  {
   "cell_type": "code",
   "execution_count": null,
   "metadata": {
    "collapsed": true
   },
   "outputs": [],
   "source": [
    "import pandas as pd\n",
    "import numpy as np\n",
    "import tensorflow as tf\n",
    "\n",
    "import time\n",
    "import random"
   ]
  },
  {
   "cell_type": "code",
   "execution_count": null,
   "metadata": {
    "collapsed": true
   },
   "outputs": [],
   "source": [
    "def find_invalid_target(ratings_df, user, idx, window_size=4):\n",
    "    start = idx - window_size\n",
    "    if start < 0:\n",
    "        return True\n",
    "    end = idx + window_size + 1\n",
    "    if end >= ratings_df.shape[0]:\n",
    "        return True\n",
    "    if ratings_df.userId.iloc[start] != user or ratings_df.userId.iloc[end] != user:\n",
    "        return True\n",
    "    return False"
   ]
  },
  {
   "cell_type": "code",
   "execution_count": null,
   "metadata": {
    "collapsed": true
   },
   "outputs": [],
   "source": [
    "def get_target(ratings_df, idx, window_size=4):\n",
    "    start = idx - window_size\n",
    "    if start < 0:\n",
    "        return False\n",
    "    \n",
    "    end = idx + window_size + 1\n",
    "    if end >= len(ratings_df):\n",
    "        return False\n",
    "    \n",
    "    user = ratings_df.userId.iloc[idx]\n",
    "    if ratings_df.userId.iloc[start] == user and ratings_df.userId.iloc[end] == user:\n",
    "        half1 = ratings.movieId.iloc[start:idx].tolist()\n",
    "        half2 = ratings.movieId.iloc[idx+1:end].tolist()\n",
    "        return half1 + half2\n",
    "    else:\n",
    "        return False"
   ]
  },
  {
   "cell_type": "code",
   "execution_count": null,
   "metadata": {
    "collapsed": true
   },
   "outputs": [],
   "source": [
    "def find_num_valid(ratings_df, window_size=4):\n",
    "    invalid_targets = 0\n",
    "    ratings = ratings_df.shape[0]\n",
    "    for idx in range(ratings):\n",
    "        if find_invalid_target(ratings_df, ratings_df.userId.iloc[idx], idx, window_size):\n",
    "            invalid_targets += 1\n",
    "            \n",
    "        if idx % 500000 == 0 and idx != 0:\n",
    "            print(\"{}/{} entries processed\".format(idx, len(ratings_df.userId)))\n",
    "    print(\"Done\")\n",
    "    return ratings - invalid_targets"
   ]
  },
  {
   "cell_type": "code",
   "execution_count": null,
   "metadata": {
    "collapsed": true
   },
   "outputs": [],
   "source": [
    "def fix_movie_indices(ratings_list, movies_df, vocab_to_int):\n",
    "    fix_dict = movies_df.set_index('movieId')['title'].to_dict()\n",
    "    fixed = []\n",
    "    \n",
    "    for movie in ratings_list:\n",
    "        fixed.append(vocab_to_int[fix_dict[movie]])\n",
    "    return fixed\n",
    "\n",
    "# TODO: preprocess dataframes so that this is not necessary during training time"
   ]
  },
  {
   "cell_type": "code",
   "execution_count": null,
   "metadata": {
    "collapsed": true
   },
   "outputs": [],
   "source": [
    "def get_batches(dataset, movies_df, vocab_to_int, n_batches, batch_size, window_size=4):\n",
    "\n",
    "    for idx in range(0, len(dataset)-100, batch_size):\n",
    "        x, y = [], []\n",
    "        batch = dataset.iloc[idx:idx+batch_size + 100] # buffer for invalid targets\n",
    "                                                       # TODO: eliminate the need for this workaround\n",
    "        \n",
    "        ii = 0\n",
    "        ix = 0\n",
    "        while ii < batch_size:\n",
    "            batch_x = batch.movieId.iloc[ix]\n",
    "            batch_y = get_target(batch, ix, window_size)\n",
    "            if batch_y:\n",
    "                ii += 1\n",
    "                batch_x = fix_movie_indices([batch_x], movies_df, vocab_to_int)\n",
    "                batch_y = fix_movie_indices(batch_y, movies_df, vocab_to_int)\n",
    "                y.extend(batch_y)\n",
    "                x.extend([batch_x]*len(batch_y))\n",
    "            ix += 1\n",
    "            \n",
    "        x = np.array(x).reshape((-1,))\n",
    "        yield x, y\n",
    "    "
   ]
  },
  {
   "cell_type": "code",
   "execution_count": null,
   "metadata": {
    "collapsed": true
   },
   "outputs": [],
   "source": [
    "movies = pd.read_csv('ml-latest/movies.csv')\n",
    "ratings = pd.read_csv('ml-latest/ratings.csv')"
   ]
  },
  {
   "cell_type": "code",
   "execution_count": null,
   "metadata": {
    "collapsed": true
   },
   "outputs": [],
   "source": [
    "high_ratings = ratings[ratings.rating >= 4]\n",
    "high_ratings.drop(['rating', 'timestamp'], axis=1, inplace=True)"
   ]
  },
  {
   "cell_type": "code",
   "execution_count": null,
   "metadata": {
    "collapsed": true
   },
   "outputs": [],
   "source": [
    "N_VALID = 10961843"
   ]
  },
  {
   "cell_type": "code",
   "execution_count": null,
   "metadata": {
    "collapsed": true
   },
   "outputs": [],
   "source": [
    "int_to_vocab = {ii: movie for ii, movie in enumerate(list(movies['title']))}\n",
    "vocab_to_int = {movie: ii for ii, movie in enumerate(list(movies['title']))}"
   ]
  },
  {
   "cell_type": "code",
   "execution_count": null,
   "metadata": {
    "collapsed": true
   },
   "outputs": [],
   "source": [
    "train_graph = tf.Graph()\n",
    "with train_graph.as_default():\n",
    "    inputs = tf.placeholder(tf.int32, [None], name='inputs')\n",
    "    labels = tf.placeholder(tf.int32, [None, None], name='labels')\n",
    "    \n",
    "n_vocab = len(int_to_vocab)\n",
    "n_embedding = 200 # Number of embedding features \n",
    "with train_graph.as_default():\n",
    "    embedding = tf.Variable(tf.random_uniform((n_vocab, n_embedding), -1, 1))\n",
    "    embed = tf.nn.embedding_lookup(embedding, inputs)\n",
    "    \n",
    "# Number of negative labels to sample\n",
    "n_sampled = 100\n",
    "with train_graph.as_default():\n",
    "    softmax_w = tf.Variable(tf.truncated_normal((n_vocab, n_embedding), stddev=0.1))\n",
    "    softmax_b = tf.Variable(tf.zeros(n_vocab))\n",
    "    \n",
    "    # Calculate the loss using negative sampling\n",
    "    loss = tf.nn.sampled_softmax_loss(softmax_w, softmax_b, \n",
    "                                      labels, embed,\n",
    "                                      n_sampled, n_vocab)\n",
    "    \n",
    "    cost = tf.reduce_mean(loss)\n",
    "    optimizer = tf.train.AdamOptimizer().minimize(cost)"
   ]
  },
  {
   "cell_type": "code",
   "execution_count": null,
   "metadata": {
    "collapsed": true
   },
   "outputs": [],
   "source": [
    "with train_graph.as_default():\n",
    "    ## From Thushan Ganegedara's implementation\n",
    "    valid_size = 16 # Random set of words to evaluate similarity on.\n",
    "    valid_window = 100\n",
    "    # pick 8 samples from (0,100) and (1000,1100) each ranges. lower id implies more frequent \n",
    "    valid_examples = np.array(random.sample(range(valid_window), valid_size//2))\n",
    "    valid_examples = np.append(valid_examples, \n",
    "                               random.sample(range(1000,1000+valid_window), valid_size//2))\n",
    "\n",
    "    valid_dataset = tf.constant(valid_examples, dtype=tf.int32)\n",
    "    \n",
    "    # We use the cosine distance:\n",
    "    norm = tf.sqrt(tf.reduce_sum(tf.square(embedding), 1, keep_dims=True))\n",
    "    normalized_embedding = embedding / norm\n",
    "    valid_embedding = tf.nn.embedding_lookup(normalized_embedding, valid_dataset)\n",
    "    similarity = tf.matmul(valid_embedding, tf.transpose(normalized_embedding))"
   ]
  },
  {
   "cell_type": "code",
   "execution_count": null,
   "metadata": {
    "collapsed": true
   },
   "outputs": [],
   "source": [
    "# If the checkpoints directory doesn't exist:\n",
    "!mkdir checkpoints"
   ]
  },
  {
   "cell_type": "code",
   "execution_count": null,
   "metadata": {
    "collapsed": true
   },
   "outputs": [],
   "source": [
    "epochs = 10\n",
    "batch_size = 32\n",
    "window_size = 4\n",
    "\n",
    "n_batches = N_VALID//batch_size\n",
    "\n",
    "with train_graph.as_default():\n",
    "    saver = tf.train.Saver()\n",
    "\n",
    "with tf.Session(graph=train_graph) as sess:\n",
    "    iteration = 1\n",
    "    loss = 0\n",
    "    sess.run(tf.global_variables_initializer())\n",
    "\n",
    "    for e in range(1, epochs+1):\n",
    "        batches = get_batches(high_ratings, movies, vocab_to_int, n_batches, batch_size, window_size)\n",
    "        start = time.time()\n",
    "        for x, y in batches:\n",
    "            \n",
    "            feed = {inputs: x,\n",
    "                    labels: np.array(y)[:, None]}\n",
    "            train_loss, _ = sess.run([cost, optimizer], feed_dict=feed)\n",
    "            \n",
    "            loss += train_loss\n",
    "            \n",
    "            if iteration % 10 == 0: \n",
    "                end = time.time()\n",
    "                print(\"Epoch {}/{}\".format(e, epochs),\n",
    "                      \"Iteration: {}\".format(iteration),\n",
    "                      \"Avg. Training loss: {:.4f}\".format(loss/100),\n",
    "                      \"{:.4f} sec/batch\".format((end-start)/100))\n",
    "                loss = 0\n",
    "                start = time.time()\n",
    "            \n",
    "            if iteration % 100 == 0:\n",
    "                # note that this is expensive (~20% slowdown if computed every 500 steps)\n",
    "                sim = similarity.eval()\n",
    "                for i in range(valid_size):\n",
    "                    valid_word = int_to_vocab[valid_examples[i]]\n",
    "                    top_k = 8 # number of nearest neighbors\n",
    "                    nearest = (-sim[i, :]).argsort()[1:top_k+1]\n",
    "                    log = 'Nearest to %s:' % valid_word\n",
    "                    for k in range(top_k):\n",
    "                        close_word = int_to_vocab[nearest[k]]\n",
    "                        log = '%s %s,' % (log, close_word)\n",
    "                    print(log)\n",
    "            \n",
    "            iteration += 1\n",
    "    save_path = saver.save(sess, \"checkpoints/text8.ckpt\")\n",
    "    embed_mat = sess.run(normalized_embedding)"
   ]
  }
 ],
 "metadata": {
  "kernelspec": {
   "display_name": "Python 3",
   "language": "python",
   "name": "python3"
  },
  "language_info": {
   "codemirror_mode": {
    "name": "ipython",
    "version": 3
   },
   "file_extension": ".py",
   "mimetype": "text/x-python",
   "name": "python",
   "nbconvert_exporter": "python",
   "pygments_lexer": "ipython3",
   "version": "3.6.3"
  }
 },
 "nbformat": 4,
 "nbformat_minor": 2
}
